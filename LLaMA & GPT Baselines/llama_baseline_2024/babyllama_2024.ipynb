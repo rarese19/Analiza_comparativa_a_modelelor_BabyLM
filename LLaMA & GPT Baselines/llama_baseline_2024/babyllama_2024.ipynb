{
 "cells": [
  {
   "cell_type": "code",
   "execution_count": null,
   "id": "1d278e53",
   "metadata": {
    "_cell_guid": "b1076dfc-b9ad-4769-8c92-a6c4dae69d19",
    "_uuid": "8f2839f25d086af736a60e9eeb907d3b93b6e0e5",
    "execution": {
     "iopub.execute_input": "2024-12-03T19:49:34.442527Z",
     "iopub.status.busy": "2024-12-03T19:49:34.441732Z",
     "iopub.status.idle": "2024-12-03T19:49:34.446193Z",
     "shell.execute_reply": "2024-12-03T19:49:34.445530Z"
    },
    "papermill": {
     "duration": 0.011372,
     "end_time": "2024-12-03T19:49:34.447825",
     "exception": false,
     "start_time": "2024-12-03T19:49:34.436453",
     "status": "completed"
    },
    "tags": []
   },
   "outputs": [],
   "source": []
  },
  {
   "cell_type": "code",
   "execution_count": null,
   "id": "8c6414e8",
   "metadata": {
    "execution": {
     "iopub.execute_input": "2024-12-03T19:49:34.455306Z",
     "iopub.status.busy": "2024-12-03T19:49:34.455089Z",
     "iopub.status.idle": "2024-12-03T19:49:44.939186Z",
     "shell.execute_reply": "2024-12-03T19:49:44.938080Z"
    },
    "papermill": {
     "duration": 10.490235,
     "end_time": "2024-12-03T19:49:44.941357",
     "exception": false,
     "start_time": "2024-12-03T19:49:34.451122",
     "status": "completed"
    },
    "tags": []
   },
   "outputs": [],
   "source": [
    "from transformers import LlamaConfig, LlamaForCausalLM\n",
    "\n",
    "config = LlamaConfig(\n",
    "    architectures=[\"LlamaForCausalLM\"],\n",
    "    attention_bias=False,\n",
    "    attention_dropout=0.0,\n",
    "    bos_token_id=1,\n",
    "    eos_token_id=2,\n",
    "    hidden_act=\"silu\",\n",
    "    hidden_size=512,\n",
    "    initializer_range=0.02,\n",
    "    intermediate_size=1024,\n",
    "    max_position_embeddings=256,\n",
    "    model_type=\"llama\",\n",
    "    num_attention_heads=8,\n",
    "    num_hidden_layers=16,\n",
    "    num_key_value_heads=8,\n",
    "    pad_token_id=0,\n",
    "    pretraining_tp=1,\n",
    "    rms_norm_eps=1e-06,\n",
    "    rope_scaling=None,\n",
    "    rope_theta=10000.0,\n",
    "    tie_word_embeddings=False,\n",
    "    torch_dtype=\"float32\",\n",
    "    transformers_version=\"4.40.1\",\n",
    "    use_cache=True,\n",
    "    vocab_size=16000\n",
    ")\n",
    "\n",
    "model = LlamaForCausalLM(config)\n",
    "# print(model)\n"
   ]
  },
  {
   "cell_type": "code",
   "execution_count": null,
   "id": "73c29842",
   "metadata": {
    "execution": {
     "iopub.execute_input": "2024-12-03T19:49:44.949652Z",
     "iopub.status.busy": "2024-12-03T19:49:44.948931Z",
     "iopub.status.idle": "2024-12-03T19:50:04.842789Z",
     "shell.execute_reply": "2024-12-03T19:50:04.841714Z"
    },
    "papermill": {
     "duration": 19.899921,
     "end_time": "2024-12-03T19:50:04.844752",
     "exception": false,
     "start_time": "2024-12-03T19:49:44.944831",
     "status": "completed"
    },
    "tags": []
   },
   "outputs": [],
   "source": [
    "from transformers import GPT2Tokenizer\n",
    "\n",
    "tokenizer_path = \"/kaggle/input/tokenizer\"\n",
    "\n",
    "tokenizer = GPT2Tokenizer.from_pretrained(tokenizer_path)\n",
    "\n",
    "text = \"Hello, how are you?\"\n",
    "encoded = tokenizer.encode(text[:500])\n",
    "decoded = tokenizer.decode(encoded)\n",
    "\n",
    "print(\"Encoded:\", encoded)\n",
    "print(\"Decoded:\", decoded)\n"
   ]
  },
  {
   "cell_type": "code",
   "execution_count": null,
   "id": "8665895c",
   "metadata": {
    "execution": {
     "iopub.execute_input": "2024-12-03T19:50:04.860966Z",
     "iopub.status.busy": "2024-12-03T19:50:04.860390Z",
     "iopub.status.idle": "2024-12-03T19:52:45.528050Z",
     "shell.execute_reply": "2024-12-03T19:52:45.526971Z"
    },
    "papermill": {
     "duration": 160.674049,
     "end_time": "2024-12-03T19:52:45.530175",
     "exception": false,
     "start_time": "2024-12-03T19:50:04.856126",
     "status": "completed"
    },
    "tags": []
   },
   "outputs": [],
   "source": [
    "import os\n",
    "import torch\n",
    "from datasets import Dataset\n",
    "\n",
    "training_folder_path = '/kaggle/input/strict-small/train_10M'\n",
    "dev_folder_path = '/kaggle/input/development-set/dev'\n",
    "\n",
    "def tokenize_file(file_path):\n",
    "    with open(file_path, 'r', encoding='utf-8') as file:\n",
    "        text = file.read()\n",
    "    encoding = tokenizer(text, padding=True, truncation=False)\n",
    "    num_tokens = len(encoding['input_ids'])\n",
    "    print(f\"Fișierul {file_path} are {num_tokens} tokeni.\")\n",
    "    return encoding\n",
    "\n",
    "def create_dataset(tokenized_files):\n",
    "    data = []\n",
    "    for tokenized_file in tokenized_files:\n",
    "        input_ids = tokenized_file['input_ids']\n",
    "        attention_mask = tokenized_file['attention_mask']\n",
    "        data.append({'input_ids': input_ids, 'attention_mask': attention_mask, 'labels': input_ids})\n",
    "\n",
    "    return Dataset.from_list(data)\n",
    "\n",
    "training_files = [os.path.join(training_folder_path, f) for f in os.listdir(training_folder_path)]\n",
    "dev_files = [os.path.join(dev_folder_path, f) for f in os.listdir(dev_folder_path)]\n",
    "\n",
    "training_tokenized_files = []\n",
    "for filename in training_files:\n",
    "    encoding = tokenize_file(filename)\n",
    "    training_tokenized_files.append(encoding)\n",
    "\n",
    "dev_tokenized_files = []\n",
    "for filename in dev_files:\n",
    "    encoding = tokenize_file(filename)\n",
    "    dev_tokenized_files.append(encoding)\n",
    "\n",
    "tokenized_training_set = create_dataset(training_tokenized_files)\n",
    "tokenized_dev_set = create_dataset(dev_tokenized_files)"
   ]
  },
  {
   "cell_type": "code",
   "execution_count": null,
   "id": "fd966ef8",
   "metadata": {
    "execution": {
     "iopub.execute_input": "2024-12-03T19:52:45.539814Z",
     "iopub.status.busy": "2024-12-03T19:52:45.539266Z",
     "iopub.status.idle": "2024-12-03T19:52:58.956750Z",
     "shell.execute_reply": "2024-12-03T19:52:58.955904Z"
    },
    "papermill": {
     "duration": 13.424162,
     "end_time": "2024-12-03T19:52:58.958500",
     "exception": false,
     "start_time": "2024-12-03T19:52:45.534338",
     "status": "completed"
    },
    "tags": []
   },
   "outputs": [],
   "source": [
    "print(len(tokenized_training_set[0]['input_ids']), len(tokenized_training_set[0]['labels']))\n",
    "print(len(tokenized_dev_set[0]['input_ids']), len(tokenized_dev_set[0]['labels']))"
   ]
  },
  {
   "cell_type": "code",
   "execution_count": null,
   "id": "add7d118",
   "metadata": {
    "execution": {
     "iopub.execute_input": "2024-12-03T19:52:58.967616Z",
     "iopub.status.busy": "2024-12-03T19:52:58.967333Z",
     "iopub.status.idle": "2024-12-03T19:53:07.003337Z",
     "shell.execute_reply": "2024-12-03T19:53:07.002420Z"
    },
    "papermill": {
     "duration": 8.042395,
     "end_time": "2024-12-03T19:53:07.005156",
     "exception": false,
     "start_time": "2024-12-03T19:52:58.962761",
     "status": "completed"
    },
    "tags": []
   },
   "outputs": [],
   "source": [
    "print(len(tokenized_dev_set[0]['input_ids']), len(tokenized_dev_set[0]['labels']))"
   ]
  },
  {
   "cell_type": "code",
   "execution_count": null,
   "id": "5a27619c",
   "metadata": {
    "execution": {
     "iopub.execute_input": "2024-12-03T19:53:07.014969Z",
     "iopub.status.busy": "2024-12-03T19:53:07.014653Z",
     "iopub.status.idle": "2024-12-03T19:54:07.226661Z",
     "shell.execute_reply": "2024-12-03T19:54:07.225729Z"
    },
    "papermill": {
     "duration": 60.219287,
     "end_time": "2024-12-03T19:54:07.228660",
     "exception": false,
     "start_time": "2024-12-03T19:53:07.009373",
     "status": "completed"
    },
    "tags": []
   },
   "outputs": [],
   "source": [
    "def split_sequence(input_ids, max_length=256):\n",
    "    return [\n",
    "        input_ids[i:i + max_length] + [0] * max(0, max_length - len(input_ids[i:i + max_length]))\n",
    "        for i in range(0, len(input_ids), max_length)]\n",
    "\n",
    "def split_dataset(dataset, max_length=256):\n",
    "    split_data = {'input_ids': [], 'attention_mask': [], 'labels': []}\n",
    "    \n",
    "    for example in dataset:\n",
    "        input_ids = example['input_ids']\n",
    "        attention_mask = example['attention_mask']\n",
    "        labels = example['labels']\n",
    "        \n",
    "        split_input_ids = split_sequence(input_ids, max_length)\n",
    "        split_attention_mask = split_sequence(attention_mask, max_length)\n",
    "        split_labels = split_sequence(labels, max_length)\n",
    "        \n",
    "        for i in range(len(split_input_ids)):\n",
    "            split_data['input_ids'].append(split_input_ids[i])\n",
    "            split_data['attention_mask'].append(split_attention_mask[i])\n",
    "            split_data['labels'].append(split_labels[i])\n",
    "\n",
    "    return Dataset.from_dict(split_data)\n",
    "\n",
    "print(tokenized_training_set)\n",
    "print(tokenized_dev_set)\n",
    "\n",
    "tokenized_training_set = split_dataset(tokenized_training_set)\n",
    "print(tokenized_training_set)\n",
    "tokenized_dev_set = split_dataset(tokenized_dev_set)\n",
    "print(tokenized_dev_set)"
   ]
  },
  {
   "cell_type": "code",
   "execution_count": null,
   "id": "3791ff5e",
   "metadata": {
    "execution": {
     "iopub.execute_input": "2024-12-03T19:54:07.239003Z",
     "iopub.status.busy": "2024-12-03T19:54:07.238657Z",
     "iopub.status.idle": "2024-12-03T19:54:07.245407Z",
     "shell.execute_reply": "2024-12-03T19:54:07.244565Z"
    },
    "papermill": {
     "duration": 0.014242,
     "end_time": "2024-12-03T19:54:07.247340",
     "exception": false,
     "start_time": "2024-12-03T19:54:07.233098",
     "status": "completed"
    },
    "tags": []
   },
   "outputs": [],
   "source": [
    "print(len(tokenized_training_set[66597]['input_ids']), len(tokenized_training_set[66597]['labels']))\n",
    "print(len(tokenized_dev_set[68485]['input_ids']), len(tokenized_dev_set[68485]['labels']))"
   ]
  },
  {
   "cell_type": "code",
   "execution_count": null,
   "id": "8f5f3404",
   "metadata": {
    "execution": {
     "iopub.execute_input": "2024-12-03T19:54:07.257380Z",
     "iopub.status.busy": "2024-12-03T19:54:07.257125Z",
     "iopub.status.idle": "2024-12-03T19:54:07.452025Z",
     "shell.execute_reply": "2024-12-03T19:54:07.451034Z"
    },
    "papermill": {
     "duration": 0.203375,
     "end_time": "2024-12-03T19:54:07.455080",
     "exception": false,
     "start_time": "2024-12-03T19:54:07.251705",
     "status": "completed"
    },
    "tags": []
   },
   "outputs": [],
   "source": [
    "import torch\n",
    "from transformers import TrainingArguments\n",
    "\n",
    "file_path = \"/kaggle/input/training-args/training_args.bin\"\n",
    "\n",
    "class DistillationTrainingArguments(TrainingArguments):\n",
    "    def __init__(self, **kwargs):\n",
    "        super().__init__(**kwargs)\n",
    "\n",
    "loaded_args = torch.load(file_path).to_dict()\n",
    "training_args = TrainingArguments(**loaded_args)\n",
    "training_args.report_to = []\n",
    "training_args.do_train = True\n",
    "print(training_args)\n"
   ]
  },
  {
   "cell_type": "code",
   "execution_count": null,
   "id": "4902eb65",
   "metadata": {
    "execution": {
     "iopub.execute_input": "2024-12-03T19:54:07.468597Z",
     "iopub.status.busy": "2024-12-03T19:54:07.467596Z",
     "iopub.status.idle": "2024-12-03T19:54:57.635954Z",
     "shell.execute_reply": "2024-12-03T19:54:57.635069Z"
    },
    "papermill": {
     "duration": 50.180644,
     "end_time": "2024-12-03T19:54:57.641389",
     "exception": false,
     "start_time": "2024-12-03T19:54:07.460745",
     "status": "completed"
    },
    "tags": []
   },
   "outputs": [],
   "source": [
    "def check_row(index, row):\n",
    "    has_none = any(token is None for token in row['input_ids']) or \\\n",
    "               any(token is None for token in row['attention_mask'])\n",
    "    return has_none\n",
    "    \n",
    "def fix_none_values(example, idx):\n",
    "    if idx in problematic_indices:\n",
    "        for j in range(len(example['input_ids'])):\n",
    "            if example['input_ids'][j] is None:\n",
    "                example['input_ids'][j] = 0\n",
    "                example['attention_mask'][j] = 0\n",
    "                example['labels'][j] = 0\n",
    "    return example\n",
    "    \n",
    "problematic_indices = [index for index, row in enumerate(tokenized_dev_set) if check_row(index, row)]\n",
    "\n",
    "print(problematic_indices)\n",
    "\n",
    "tokenized_dev_set = tokenized_dev_set.map(fix_none_values, with_indices=True)\n",
    "\n",
    "problematic_indices = [index for index, row in enumerate(tokenized_dev_set) if check_row(index, row)]\n",
    "print(problematic_indices)\n"
   ]
  },
  {
   "cell_type": "code",
   "execution_count": null,
   "id": "439bf8c8",
   "metadata": {
    "execution": {
     "iopub.execute_input": "2024-12-03T19:54:57.652077Z",
     "iopub.status.busy": "2024-12-03T19:54:57.651398Z",
     "iopub.status.idle": "2024-12-03T22:54:26.776117Z",
     "shell.execute_reply": "2024-12-03T22:54:26.775275Z"
    },
    "papermill": {
     "duration": 10769.131956,
     "end_time": "2024-12-03T22:54:26.777979",
     "exception": false,
     "start_time": "2024-12-03T19:54:57.646023",
     "status": "completed"
    },
    "tags": []
   },
   "outputs": [],
   "source": [
    "from transformers import Trainer\n",
    "\n",
    "trainer = Trainer(\n",
    "    model=model,\n",
    "    args=training_args,\n",
    "    train_dataset=tokenized_training_set,\n",
    "    eval_dataset=tokenized_dev_set,\n",
    "    tokenizer=tokenizer,\n",
    ")\n",
    "\n",
    "trainer.train()"
   ]
  },
  {
   "cell_type": "code",
   "execution_count": null,
   "id": "8219c91a",
   "metadata": {
    "execution": {
     "iopub.execute_input": "2024-12-03T22:54:26.790075Z",
     "iopub.status.busy": "2024-12-03T22:54:26.789518Z",
     "iopub.status.idle": "2024-12-03T22:54:27.076154Z",
     "shell.execute_reply": "2024-12-03T22:54:27.075428Z"
    },
    "papermill": {
     "duration": 0.294653,
     "end_time": "2024-12-03T22:54:27.078072",
     "exception": false,
     "start_time": "2024-12-03T22:54:26.783419",
     "status": "completed"
    },
    "tags": []
   },
   "outputs": [],
   "source": [
    "model_name = \"model-antrenat\"\n",
    "model.save_pretrained(f\"./{model_name}\")"
   ]
  },
  {
   "cell_type": "code",
   "execution_count": null,
   "id": "d464c992",
   "metadata": {
    "execution": {
     "iopub.execute_input": "2024-12-03T22:54:27.089942Z",
     "iopub.status.busy": "2024-12-03T22:54:27.089635Z",
     "iopub.status.idle": "2024-12-03T22:54:27.093131Z",
     "shell.execute_reply": "2024-12-03T22:54:27.092319Z"
    },
    "papermill": {
     "duration": 0.011255,
     "end_time": "2024-12-03T22:54:27.094764",
     "exception": false,
     "start_time": "2024-12-03T22:54:27.083509",
     "status": "completed"
    },
    "tags": []
   },
   "outputs": [],
   "source": [
    "# import os\n",
    "# print(os.listdir(train_folder_path))\n"
   ]
  },
  {
   "cell_type": "code",
   "execution_count": null,
   "id": "2b387400",
   "metadata": {
    "execution": {
     "iopub.execute_input": "2024-12-03T22:54:27.106043Z",
     "iopub.status.busy": "2024-12-03T22:54:27.105573Z",
     "iopub.status.idle": "2024-12-03T22:54:27.109146Z",
     "shell.execute_reply": "2024-12-03T22:54:27.108478Z"
    },
    "papermill": {
     "duration": 0.0107,
     "end_time": "2024-12-03T22:54:27.110554",
     "exception": false,
     "start_time": "2024-12-03T22:54:27.099854",
     "status": "completed"
    },
    "tags": []
   },
   "outputs": [],
   "source": [
    "# print(\"Number of samples in tokenized training dataset:\", len(tokenized_training_dataset))\n"
   ]
  },
  {
   "cell_type": "code",
   "execution_count": null,
   "id": "bd22c887",
   "metadata": {
    "execution": {
     "iopub.execute_input": "2024-12-03T22:54:27.121682Z",
     "iopub.status.busy": "2024-12-03T22:54:27.121435Z",
     "iopub.status.idle": "2024-12-03T22:54:27.124911Z",
     "shell.execute_reply": "2024-12-03T22:54:27.124120Z"
    },
    "papermill": {
     "duration": 0.010661,
     "end_time": "2024-12-03T22:54:27.126416",
     "exception": false,
     "start_time": "2024-12-03T22:54:27.115755",
     "status": "completed"
    },
    "tags": []
   },
   "outputs": [],
   "source": [
    "# from shutil import make_archive\n",
    "\n",
    "# make_archive('/kaggle/working/model_archive', 'zip', '/kaggle/working/models/Baby-Llama')"
   ]
  }
 ],
 "metadata": {
  "kaggle": {
   "accelerator": "nvidiaTeslaT4",
   "dataSources": [
    {
     "datasetId": 6170541,
     "sourceId": 10020941,
     "sourceType": "datasetVersion"
    },
    {
     "datasetId": 6170689,
     "sourceId": 10021130,
     "sourceType": "datasetVersion"
    },
    {
     "datasetId": 6171417,
     "sourceId": 10022088,
     "sourceType": "datasetVersion"
    },
    {
     "datasetId": 6172469,
     "sourceId": 10024162,
     "sourceType": "datasetVersion"
    }
   ],
   "dockerImageVersionId": 30786,
   "isGpuEnabled": true,
   "isInternetEnabled": true,
   "language": "python",
   "sourceType": "notebook"
  },
  "kernelspec": {
   "display_name": "Python 3",
   "language": "python",
   "name": "python3"
  },
  "language_info": {
   "codemirror_mode": {
    "name": "ipython",
    "version": 3
   },
   "file_extension": ".py",
   "mimetype": "text/x-python",
   "name": "python",
   "nbconvert_exporter": "python",
   "pygments_lexer": "ipython3",
   "version": "3.10.14"
  },
  "papermill": {
   "default_parameters": {},
   "duration": 11099.993238,
   "end_time": "2024-12-03T22:54:30.457850",
   "environment_variables": {},
   "exception": null,
   "input_path": "__notebook__.ipynb",
   "output_path": "__notebook__.ipynb",
   "parameters": {},
   "start_time": "2024-12-03T19:49:30.464612",
   "version": "2.6.0"
  },
  "widgets": {
   "application/vnd.jupyter.widget-state+json": {
    "state": {
     "05c250c894154927a5100f055ec040f0": {
      "model_module": "@jupyter-widgets/base",
      "model_module_version": "1.2.0",
      "model_name": "LayoutModel",
      "state": {
       "_model_module": "@jupyter-widgets/base",
       "_model_module_version": "1.2.0",
       "_model_name": "LayoutModel",
       "_view_count": null,
       "_view_module": "@jupyter-widgets/base",
       "_view_module_version": "1.2.0",
       "_view_name": "LayoutView",
       "align_content": null,
       "align_items": null,
       "align_self": null,
       "border": null,
       "bottom": null,
       "display": null,
       "flex": null,
       "flex_flow": null,
       "grid_area": null,
       "grid_auto_columns": null,
       "grid_auto_flow": null,
       "grid_auto_rows": null,
       "grid_column": null,
       "grid_gap": null,
       "grid_row": null,
       "grid_template_areas": null,
       "grid_template_columns": null,
       "grid_template_rows": null,
       "height": null,
       "justify_content": null,
       "justify_items": null,
       "left": null,
       "margin": null,
       "max_height": null,
       "max_width": null,
       "min_height": null,
       "min_width": null,
       "object_fit": null,
       "object_position": null,
       "order": null,
       "overflow": null,
       "overflow_x": null,
       "overflow_y": null,
       "padding": null,
       "right": null,
       "top": null,
       "visibility": null,
       "width": null
      }
     },
     "175f8a3e6aa9420b9deacd1e9b5e7483": {
      "model_module": "@jupyter-widgets/controls",
      "model_module_version": "1.5.0",
      "model_name": "DescriptionStyleModel",
      "state": {
       "_model_module": "@jupyter-widgets/controls",
       "_model_module_version": "1.5.0",
       "_model_name": "DescriptionStyleModel",
       "_view_count": null,
       "_view_module": "@jupyter-widgets/base",
       "_view_module_version": "1.2.0",
       "_view_name": "StyleView",
       "description_width": ""
      }
     },
     "1784766025b04d0596d298d051f5975e": {
      "model_module": "@jupyter-widgets/controls",
      "model_module_version": "1.5.0",
      "model_name": "HTMLModel",
      "state": {
       "_dom_classes": [],
       "_model_module": "@jupyter-widgets/controls",
       "_model_module_version": "1.5.0",
       "_model_name": "HTMLModel",
       "_view_count": null,
       "_view_module": "@jupyter-widgets/controls",
       "_view_module_version": "1.5.0",
       "_view_name": "HTMLView",
       "description": "",
       "description_tooltip": null,
       "layout": "IPY_MODEL_68f33368464147cd8afa223b287ceebe",
       "placeholder": "​",
       "style": "IPY_MODEL_175f8a3e6aa9420b9deacd1e9b5e7483",
       "value": " 68486/68486 [00:05&lt;00:00, 12175.22 examples/s]"
      }
     },
     "193b989a85194b75b611fba299f0dc31": {
      "model_module": "@jupyter-widgets/controls",
      "model_module_version": "1.5.0",
      "model_name": "DescriptionStyleModel",
      "state": {
       "_model_module": "@jupyter-widgets/controls",
       "_model_module_version": "1.5.0",
       "_model_name": "DescriptionStyleModel",
       "_view_count": null,
       "_view_module": "@jupyter-widgets/base",
       "_view_module_version": "1.2.0",
       "_view_name": "StyleView",
       "description_width": ""
      }
     },
     "2bcfe96e247f47918654cdd5a2248ebe": {
      "model_module": "@jupyter-widgets/controls",
      "model_module_version": "1.5.0",
      "model_name": "HBoxModel",
      "state": {
       "_dom_classes": [],
       "_model_module": "@jupyter-widgets/controls",
       "_model_module_version": "1.5.0",
       "_model_name": "HBoxModel",
       "_view_count": null,
       "_view_module": "@jupyter-widgets/controls",
       "_view_module_version": "1.5.0",
       "_view_name": "HBoxView",
       "box_style": "",
       "children": [
        "IPY_MODEL_904ee5c7d01b4d149f55f15197647ee0",
        "IPY_MODEL_bea5cd6983ef472ab52a954be01ae34e",
        "IPY_MODEL_1784766025b04d0596d298d051f5975e"
       ],
       "layout": "IPY_MODEL_05c250c894154927a5100f055ec040f0"
      }
     },
     "4735a71c88fd4d548b09e4d5015c3c71": {
      "model_module": "@jupyter-widgets/base",
      "model_module_version": "1.2.0",
      "model_name": "LayoutModel",
      "state": {
       "_model_module": "@jupyter-widgets/base",
       "_model_module_version": "1.2.0",
       "_model_name": "LayoutModel",
       "_view_count": null,
       "_view_module": "@jupyter-widgets/base",
       "_view_module_version": "1.2.0",
       "_view_name": "LayoutView",
       "align_content": null,
       "align_items": null,
       "align_self": null,
       "border": null,
       "bottom": null,
       "display": null,
       "flex": null,
       "flex_flow": null,
       "grid_area": null,
       "grid_auto_columns": null,
       "grid_auto_flow": null,
       "grid_auto_rows": null,
       "grid_column": null,
       "grid_gap": null,
       "grid_row": null,
       "grid_template_areas": null,
       "grid_template_columns": null,
       "grid_template_rows": null,
       "height": null,
       "justify_content": null,
       "justify_items": null,
       "left": null,
       "margin": null,
       "max_height": null,
       "max_width": null,
       "min_height": null,
       "min_width": null,
       "object_fit": null,
       "object_position": null,
       "order": null,
       "overflow": null,
       "overflow_x": null,
       "overflow_y": null,
       "padding": null,
       "right": null,
       "top": null,
       "visibility": null,
       "width": null
      }
     },
     "68f33368464147cd8afa223b287ceebe": {
      "model_module": "@jupyter-widgets/base",
      "model_module_version": "1.2.0",
      "model_name": "LayoutModel",
      "state": {
       "_model_module": "@jupyter-widgets/base",
       "_model_module_version": "1.2.0",
       "_model_name": "LayoutModel",
       "_view_count": null,
       "_view_module": "@jupyter-widgets/base",
       "_view_module_version": "1.2.0",
       "_view_name": "LayoutView",
       "align_content": null,
       "align_items": null,
       "align_self": null,
       "border": null,
       "bottom": null,
       "display": null,
       "flex": null,
       "flex_flow": null,
       "grid_area": null,
       "grid_auto_columns": null,
       "grid_auto_flow": null,
       "grid_auto_rows": null,
       "grid_column": null,
       "grid_gap": null,
       "grid_row": null,
       "grid_template_areas": null,
       "grid_template_columns": null,
       "grid_template_rows": null,
       "height": null,
       "justify_content": null,
       "justify_items": null,
       "left": null,
       "margin": null,
       "max_height": null,
       "max_width": null,
       "min_height": null,
       "min_width": null,
       "object_fit": null,
       "object_position": null,
       "order": null,
       "overflow": null,
       "overflow_x": null,
       "overflow_y": null,
       "padding": null,
       "right": null,
       "top": null,
       "visibility": null,
       "width": null
      }
     },
     "8362581ccb06417385e68f75d99d7e4e": {
      "model_module": "@jupyter-widgets/controls",
      "model_module_version": "1.5.0",
      "model_name": "ProgressStyleModel",
      "state": {
       "_model_module": "@jupyter-widgets/controls",
       "_model_module_version": "1.5.0",
       "_model_name": "ProgressStyleModel",
       "_view_count": null,
       "_view_module": "@jupyter-widgets/base",
       "_view_module_version": "1.2.0",
       "_view_name": "StyleView",
       "bar_color": null,
       "description_width": ""
      }
     },
     "904ee5c7d01b4d149f55f15197647ee0": {
      "model_module": "@jupyter-widgets/controls",
      "model_module_version": "1.5.0",
      "model_name": "HTMLModel",
      "state": {
       "_dom_classes": [],
       "_model_module": "@jupyter-widgets/controls",
       "_model_module_version": "1.5.0",
       "_model_name": "HTMLModel",
       "_view_count": null,
       "_view_module": "@jupyter-widgets/controls",
       "_view_module_version": "1.5.0",
       "_view_name": "HTMLView",
       "description": "",
       "description_tooltip": null,
       "layout": "IPY_MODEL_c1957e02f9814135ad5e727b9f24adff",
       "placeholder": "​",
       "style": "IPY_MODEL_193b989a85194b75b611fba299f0dc31",
       "value": "Map: 100%"
      }
     },
     "bea5cd6983ef472ab52a954be01ae34e": {
      "model_module": "@jupyter-widgets/controls",
      "model_module_version": "1.5.0",
      "model_name": "FloatProgressModel",
      "state": {
       "_dom_classes": [],
       "_model_module": "@jupyter-widgets/controls",
       "_model_module_version": "1.5.0",
       "_model_name": "FloatProgressModel",
       "_view_count": null,
       "_view_module": "@jupyter-widgets/controls",
       "_view_module_version": "1.5.0",
       "_view_name": "ProgressView",
       "bar_style": "success",
       "description": "",
       "description_tooltip": null,
       "layout": "IPY_MODEL_4735a71c88fd4d548b09e4d5015c3c71",
       "max": 68486,
       "min": 0,
       "orientation": "horizontal",
       "style": "IPY_MODEL_8362581ccb06417385e68f75d99d7e4e",
       "value": 68486
      }
     },
     "c1957e02f9814135ad5e727b9f24adff": {
      "model_module": "@jupyter-widgets/base",
      "model_module_version": "1.2.0",
      "model_name": "LayoutModel",
      "state": {
       "_model_module": "@jupyter-widgets/base",
       "_model_module_version": "1.2.0",
       "_model_name": "LayoutModel",
       "_view_count": null,
       "_view_module": "@jupyter-widgets/base",
       "_view_module_version": "1.2.0",
       "_view_name": "LayoutView",
       "align_content": null,
       "align_items": null,
       "align_self": null,
       "border": null,
       "bottom": null,
       "display": null,
       "flex": null,
       "flex_flow": null,
       "grid_area": null,
       "grid_auto_columns": null,
       "grid_auto_flow": null,
       "grid_auto_rows": null,
       "grid_column": null,
       "grid_gap": null,
       "grid_row": null,
       "grid_template_areas": null,
       "grid_template_columns": null,
       "grid_template_rows": null,
       "height": null,
       "justify_content": null,
       "justify_items": null,
       "left": null,
       "margin": null,
       "max_height": null,
       "max_width": null,
       "min_height": null,
       "min_width": null,
       "object_fit": null,
       "object_position": null,
       "order": null,
       "overflow": null,
       "overflow_x": null,
       "overflow_y": null,
       "padding": null,
       "right": null,
       "top": null,
       "visibility": null,
       "width": null
      }
     }
    },
    "version_major": 2,
    "version_minor": 0
   }
  }
 },
 "nbformat": 4,
 "nbformat_minor": 5
}
