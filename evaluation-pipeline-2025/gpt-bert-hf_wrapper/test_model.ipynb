{
 "cells": [
  {
   "cell_type": "code",
   "execution_count": 2,
   "id": "a780edf1-a670-4b84-ba2b-08e6fde80e6f",
   "metadata": {},
   "outputs": [
    {
     "name": "stderr",
     "output_type": "stream",
     "text": [
      "/usr/local/lib/python3.10/dist-packages/tqdm/auto.py:21: TqdmWarning: IProgress not found. Please update jupyter and ipywidgets. See https://ipywidgets.readthedocs.io/en/stable/user_install.html\n",
      "  from .autonotebook import tqdm as notebook_tqdm\n"
     ]
    },
    {
     "name": "stdout",
     "output_type": "stream",
     "text": [
      "Config: ModelConfig {\n",
      "  \"architectures\": [\n",
      "    \"BertModel\",\n",
      "    \"BertForMaskedLM\"\n",
      "  ],\n",
      "  \"attention_probs_dropout_prob\": 0.1,\n",
      "  \"auto_map\": {\n",
      "    \"AutoConfig\": \"model_configuration.ModelConfig\",\n",
      "    \"AutoModel\": \"modeling.BertModel\",\n",
      "    \"AutoModelForMaskedLM\": \"modeling.BertForMaskedLM\"\n",
      "  },\n",
      "  \"gradient_checkpointing\": false,\n",
      "  \"hidden_dropout_prob\": 0.1,\n",
      "  \"hidden_size\": 384,\n",
      "  \"intermediate_size\": 1280,\n",
      "  \"layer_norm_eps\": 1e-05,\n",
      "  \"max_position_embeddings\": 512,\n",
      "  \"model_type\": \"my-bert\",\n",
      "  \"num_attention_heads\": 6,\n",
      "  \"num_hidden_layers\": 12,\n",
      "  \"position_bucket_size\": 32,\n",
      "  \"transformers_version\": \"4.50.0\",\n",
      "  \"vocab_size\": 8192\n",
      "}\n",
      "\n"
     ]
    }
   ],
   "source": [
    "from transformers import AutoConfig, AutoTokenizer, AutoModelForMaskedLM\n",
    "import torch\n",
    "\n",
    "cfg = AutoConfig.from_pretrained(\".\", trust_remote_code=True)\n",
    "print(\"Config:\", cfg)"
   ]
  },
  {
   "cell_type": "code",
   "execution_count": 3,
   "id": "fc045235-296c-4091-9a1f-062066e23e4f",
   "metadata": {},
   "outputs": [
    {
     "name": "stdout",
     "output_type": "stream",
     "text": [
      "Tokenizer: PreTrainedTokenizerFast(name_or_path='.', vocab_size=8192, model_max_length=512, is_fast=True, padding_side='right', truncation_side='right', special_tokens={'unk_token': '<unk>', 'sep_token': '</s>', 'pad_token': '<pad>', 'cls_token': '<s>', 'mask_token': '<mask>', 'additional_special_tokens': ['<special_0>', '<special_1>', '<special_2>', '<special_3>', '<special_4>', '<special_5>', '<special_6>', '<special_7>', '<special_8>', '<special_9>', '<special_10>', '<special_11>', '<special_12>', '<special_13>', '<special_14>', '<special_15>']}, clean_up_tokenization_spaces=False, added_tokens_decoder={\n",
      "\t0: AddedToken(\"<unk>\", rstrip=False, lstrip=False, single_word=False, normalized=False, special=True),\n",
      "\t1: AddedToken(\"<s>\", rstrip=False, lstrip=False, single_word=False, normalized=False, special=True),\n",
      "\t2: AddedToken(\"</s>\", rstrip=False, lstrip=False, single_word=False, normalized=False, special=True),\n",
      "\t3: AddedToken(\"<pad>\", rstrip=False, lstrip=False, single_word=False, normalized=False, special=True),\n",
      "\t4: AddedToken(\"<mask>\", rstrip=False, lstrip=False, single_word=False, normalized=False, special=True),\n",
      "\t5: AddedToken(\"<special_0>\", rstrip=False, lstrip=False, single_word=False, normalized=False, special=True),\n",
      "\t6: AddedToken(\"<special_1>\", rstrip=False, lstrip=False, single_word=False, normalized=False, special=True),\n",
      "\t7: AddedToken(\"<special_2>\", rstrip=False, lstrip=False, single_word=False, normalized=False, special=True),\n",
      "\t8: AddedToken(\"<special_3>\", rstrip=False, lstrip=False, single_word=False, normalized=False, special=True),\n",
      "\t9: AddedToken(\"<special_4>\", rstrip=False, lstrip=False, single_word=False, normalized=False, special=True),\n",
      "\t10: AddedToken(\"<special_5>\", rstrip=False, lstrip=False, single_word=False, normalized=False, special=True),\n",
      "\t11: AddedToken(\"<special_6>\", rstrip=False, lstrip=False, single_word=False, normalized=False, special=True),\n",
      "\t12: AddedToken(\"<special_7>\", rstrip=False, lstrip=False, single_word=False, normalized=False, special=True),\n",
      "\t13: AddedToken(\"<special_8>\", rstrip=False, lstrip=False, single_word=False, normalized=False, special=True),\n",
      "\t14: AddedToken(\"<special_9>\", rstrip=False, lstrip=False, single_word=False, normalized=False, special=True),\n",
      "\t15: AddedToken(\"<special_10>\", rstrip=False, lstrip=False, single_word=False, normalized=False, special=True),\n",
      "\t8192: AddedToken(\"<special_11>\", rstrip=False, lstrip=False, single_word=False, normalized=False, special=True),\n",
      "\t8193: AddedToken(\"<special_12>\", rstrip=False, lstrip=False, single_word=False, normalized=False, special=True),\n",
      "\t8194: AddedToken(\"<special_13>\", rstrip=False, lstrip=False, single_word=False, normalized=False, special=True),\n",
      "\t8195: AddedToken(\"<special_14>\", rstrip=False, lstrip=False, single_word=False, normalized=False, special=True),\n",
      "\t8196: AddedToken(\"<special_15>\", rstrip=False, lstrip=False, single_word=False, normalized=False, special=True),\n",
      "}\n",
      ")\n",
      "Vocab size: 8192\n",
      "Mask token: <mask> → ID 4\n"
     ]
    }
   ],
   "source": [
    "tok = AutoTokenizer.from_pretrained(\".\", trust_remote_code=True)\n",
    "print(\"Tokenizer:\", tok)\n",
    "print(\"Vocab size:\", tok.vocab_size)\n",
    "print(\"Mask token:\", tok.mask_token, \"→ ID\", tok.mask_token_id)"
   ]
  },
  {
   "cell_type": "code",
   "execution_count": 19,
   "id": "2ebf8bb4-98b6-4b12-8963-940f9fe55ee1",
   "metadata": {},
   "outputs": [
    {
     "data": {
      "text/plain": [
       "BertForMaskedLM(\n",
       "  (embedding): Embedding(\n",
       "    (word_embedding): Embedding(8192, 384)\n",
       "    (word_layer_norm): LayerNorm((384,), eps=1e-05, elementwise_affine=False)\n",
       "    (dropout): Dropout(p=0.1, inplace=False)\n",
       "    (relative_layer_norm): LayerNorm((384,), eps=1e-05, elementwise_affine=True)\n",
       "  )\n",
       "  (transformer): Encoder(\n",
       "    (attention_layers): ModuleList(\n",
       "      (0-11): 12 x Attention(\n",
       "        (in_proj_qk): Linear(in_features=384, out_features=768, bias=True)\n",
       "        (in_proj_vg): Linear(in_features=384, out_features=768, bias=True)\n",
       "        (out_proj): Linear(in_features=384, out_features=384, bias=True)\n",
       "        (pre_layer_norm): LayerNorm((384,), eps=1e-05, elementwise_affine=False)\n",
       "        (post_layer_norm): LayerNorm((384,), eps=1e-05, elementwise_affine=False)\n",
       "        (dropout): Dropout(p=0.1, inplace=False)\n",
       "      )\n",
       "    )\n",
       "    (mlp_layers): ModuleList(\n",
       "      (0-11): 12 x FeedForward(\n",
       "        (mlp): Sequential(\n",
       "          (0): LayerNorm((384,), eps=1e-05, elementwise_affine=False)\n",
       "          (1): Linear(in_features=384, out_features=2560, bias=False)\n",
       "          (2): GeGLU()\n",
       "          (3): LayerNorm((1280,), eps=1e-05, elementwise_affine=False)\n",
       "          (4): Linear(in_features=1280, out_features=384, bias=False)\n",
       "          (5): Dropout(p=0.1, inplace=False)\n",
       "        )\n",
       "      )\n",
       "    )\n",
       "    (dwa_modules): DWAModules(\n",
       "      (alphas): ParameterList(\n",
       "          (0): Parameter containing: [torch.float32 of size 2]\n",
       "          (1): Parameter containing: [torch.float32 of size 3]\n",
       "          (2): Parameter containing: [torch.float32 of size 4]\n",
       "          (3): Parameter containing: [torch.float32 of size 5]\n",
       "          (4): Parameter containing: [torch.float32 of size 6]\n",
       "          (5): Parameter containing: [torch.float32 of size 7]\n",
       "          (6): Parameter containing: [torch.float32 of size 8]\n",
       "          (7): Parameter containing: [torch.float32 of size 9]\n",
       "          (8): Parameter containing: [torch.float32 of size 10]\n",
       "          (9): Parameter containing: [torch.float32 of size 11]\n",
       "          (10): Parameter containing: [torch.float32 of size 12]\n",
       "          (11): Parameter containing: [torch.float32 of size 13]\n",
       "          (12): Parameter containing: [torch.float32 of size 14]\n",
       "          (13): Parameter containing: [torch.float32 of size 15]\n",
       "          (14): Parameter containing: [torch.float32 of size 16]\n",
       "          (15): Parameter containing: [torch.float32 of size 17]\n",
       "          (16): Parameter containing: [torch.float32 of size 18]\n",
       "          (17): Parameter containing: [torch.float32 of size 19]\n",
       "          (18): Parameter containing: [torch.float32 of size 20]\n",
       "          (19): Parameter containing: [torch.float32 of size 21]\n",
       "          (20): Parameter containing: [torch.float32 of size 22]\n",
       "          (21): Parameter containing: [torch.float32 of size 23]\n",
       "          (22): Parameter containing: [torch.float32 of size 24]\n",
       "          (23): Parameter containing: [torch.float32 of size 25]\n",
       "      )\n",
       "    )\n",
       "  )\n",
       "  (classifier): MaskClassifier(\n",
       "    (nonlinearity): Sequential(\n",
       "      (0): LayerNorm((384,), eps=1e-05, elementwise_affine=False)\n",
       "      (1): Linear(in_features=384, out_features=384, bias=True)\n",
       "      (2): GELU(approximate='none')\n",
       "      (3): LayerNorm((384,), eps=1e-05, elementwise_affine=False)\n",
       "      (4): Dropout(p=0.1, inplace=False)\n",
       "      (5): Linear(in_features=384, out_features=8192, bias=True)\n",
       "    )\n",
       "  )\n",
       ")"
      ]
     },
     "execution_count": 19,
     "metadata": {},
     "output_type": "execute_result"
    }
   ],
   "source": [
    "model = AutoModelForMaskedLM.from_pretrained(\".\", trust_remote_code=True)\n",
    "model.eval()"
   ]
  },
  {
   "cell_type": "code",
   "execution_count": 48,
   "id": "7a74fa14-5ac7-4344-a212-5ab829afa809",
   "metadata": {},
   "outputs": [
    {
     "name": "stdout",
     "output_type": "stream",
     "text": [
      "Input IDs: tensor([[   1,  437, 5003,  307,  236,    4,  236,  353,  527,  449,  303, 1393,\n",
      "           29]])\n",
      "Tokenized: ['<s>', 'ĠThe', 'Ġcapital', 'Ġof', 'Ġ', '<mask>', 'Ġ', 'Ġis', 'ĠO', 'nt', 'ar', 'io', '.']\n",
      "Logits shape: torch.Size([1, 13, 8192])\n"
     ]
    }
   ],
   "source": [
    "text = \"The capital of <mask> is Ottawa.\"\n",
    "inputs = tok(text, return_tensors=\"pt\")\n",
    "print(\"Input IDs:\", inputs[\"input_ids\"])\n",
    "print(\"Tokenized:\", tok.convert_ids_to_tokens(inputs[\"input_ids\"][0]))\n",
    "\n",
    "with torch.no_grad():\n",
    "    outputs = model(**inputs)\n",
    "\n",
    "logits = outputs.logits\n",
    "print(\"Logits shape:\", logits.shape)"
   ]
  },
  {
   "cell_type": "code",
   "execution_count": 49,
   "id": "bd466c64-5a78-4819-8a77-6ec433ad7bc0",
   "metadata": {},
   "outputs": [
    {
     "name": "stdout",
     "output_type": "stream",
     "text": [
      "Top 5 predictions for <mask>:\n",
      "           Ġ  (logit=8.14)\n",
      "     ĠFrance  (logit=4.00)\n",
      "           .  (logit=3.69)\n",
      "           Ģ  (logit=3.64)\n",
      "           ,  (logit=3.53)\n"
     ]
    }
   ],
   "source": [
    "mask_token_id = tok.mask_token_id\n",
    "mask_index = (inputs[\"input_ids\"][0] == mask_token_id).nonzero(as_tuple=True)[0].item()\n",
    "\n",
    "mask_logits = outputs.logits[0, mask_index]\n",
    "topk = torch.topk(mask_logits, k=5)\n",
    "top_ids = topk.indices.tolist()\n",
    "top_scores = topk.values.tolist()\n",
    "\n",
    "top_tokens = tok.convert_ids_to_tokens(top_ids)\n",
    "\n",
    "print(\"Top 5 predictions for <mask>:\")\n",
    "for token, score in zip(top_tokens, top_scores):\n",
    "    print(f\"  {token:>10s}  (logit={score:.2f})\")"
   ]
  }
 ],
 "metadata": {
  "kernelspec": {
   "display_name": "Python 3 (ipykernel)",
   "language": "python",
   "name": "python3"
  },
  "language_info": {
   "codemirror_mode": {
    "name": "ipython",
    "version": 3
   },
   "file_extension": ".py",
   "mimetype": "text/x-python",
   "name": "python",
   "nbconvert_exporter": "python",
   "pygments_lexer": "ipython3",
   "version": "3.10.12"
  }
 },
 "nbformat": 4,
 "nbformat_minor": 5
}
