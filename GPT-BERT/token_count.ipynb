{
 "cells": [
  {
   "cell_type": "code",
   "execution_count": 11,
   "id": "f08963d1-7c40-43ed-9f4f-7ab569bbb131",
   "metadata": {},
   "outputs": [
    {
     "name": "stdout",
     "output_type": "stream",
     "text": [
      "8659014\n",
      "93346514\n",
      "86263408\n"
     ]
    }
   ],
   "source": [
    "import numpy as np\n",
    "data = np.fromfile(\"superbpe_babycosmofine_10M_train_tokenized.bin\", dtype=np.int32)\n",
    "print(len(data))\n",
    "data = np.fromfile(\"superbpe_babylm_original_data_train_tokenized.bin\", dtype=np.int32)\n",
    "print(len(data))\n",
    "data = np.fromfile(\"babylm_raw_data_train_tokenized.bin\", dtype=np.int32)\n",
    "print(len(data))"
   ]
  },
  {
   "cell_type": "code",
   "execution_count": null,
   "id": "d37183ad-c7a6-440f-bf24-fd1c7a910a4c",
   "metadata": {},
   "outputs": [],
   "source": []
  }
 ],
 "metadata": {
  "kernelspec": {
   "display_name": "Python 3 (ipykernel)",
   "language": "python",
   "name": "python3"
  },
  "language_info": {
   "codemirror_mode": {
    "name": "ipython",
    "version": 3
   },
   "file_extension": ".py",
   "mimetype": "text/x-python",
   "name": "python",
   "nbconvert_exporter": "python",
   "pygments_lexer": "ipython3",
   "version": "3.10.12"
  }
 },
 "nbformat": 4,
 "nbformat_minor": 5
}
